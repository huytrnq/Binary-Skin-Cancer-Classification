{
 "cells": [
  {
   "cell_type": "code",
   "execution_count": 1,
   "metadata": {},
   "outputs": [],
   "source": [
    "import os\n",
    "from tqdm import tqdm\n",
    "\n",
    "import cv2\n",
    "import numpy as np\n",
    "import matplotlib.pyplot as plt\n",
    "import xgboost as xgb\n",
    "from sklearn.cluster import KMeans\n",
    "from sklearn.svm import SVC\n",
    "from sklearn.preprocessing import StandardScaler\n",
    "from sklearn.metrics import accuracy_score, confusion_matrix, classification_report\n",
    "\n",
    "from utils.dataloader import DataLoader\n",
    "from utils.vis import MatplotlibVisualizer\n",
    "from utils.transforms import HairRemoval, Composer\n",
    "from descriptors.texture import LBPDescriptor, GLCMDescriptor\n",
    "from utils.segmentation import ThresholdingSegmentation\n",
    "from descriptors.bow import MultifeatureBoW\n",
    "from descriptors.color import ColorDescriptor, ColorLayoutDescriptor, ColorCooccurrenceMatrixDescriptor"
   ]
  },
  {
   "cell_type": "code",
   "execution_count": 2,
   "metadata": {},
   "outputs": [],
   "source": [
    "## Classes\n",
    "CLASSES = ['nevus', 'others']\n",
    "\n",
    "## Work folfer\n",
    "work_folder = os.getcwd()\n",
    "data_folder = os.path.join(work_folder, '..', 'Data/Challenge1/subdata')\n",
    "\n",
    "## Visualizer\n",
    "matplotlib_visualizer = MatplotlibVisualizer()"
   ]
  },
  {
   "cell_type": "code",
   "execution_count": 3,
   "metadata": {},
   "outputs": [],
   "source": [
    "# color_descriptor = ColorDescriptor(bins=(8, 12, 3))\n",
    "# color_cooccurrence_matrix_descriptor = ColorCooccurrenceMatrixDescriptor(distances=[1], angles=[0, np.pi/4, np.pi/2, 3*np.pi/4], levels=8)\n",
    "# glcm_descriptor = GLCMDescriptor(distances=[1], angles=[0, np.pi/4, np.pi/2, 3*np.pi/4], levels=8, visualize=False, grid_x=4, grid_y=4)\n",
    "lbp_descriptor = LBPDescriptor(radius=3, n_points=16, grid_x=3, grid_y=3, visualize=False)\n",
    "\n",
    "descriptors = [lbp_descriptor]\n",
    "classifier = xgb.XGBClassifier(objective='binary:logistic', n_estimators=100, learning_rate=0.1, n_jobs=-1)\n",
    "\n",
    "# Initialize the MultifeatureBoW model\n",
    "multifeature_bow = MultifeatureBoW(vocab_size=10, descriptors=descriptors)"
   ]
  },
  {
   "cell_type": "code",
   "execution_count": 21,
   "metadata": {},
   "outputs": [
    {
     "name": "stderr",
     "output_type": "stream",
     "text": [
      "Extracting Features for LBPDescriptor: 100%|██████████| 20/20 [00:01<00:00, 14.90it/s]\n"
     ]
    },
    {
     "name": "stdout",
     "output_type": "stream",
     "text": [
      "Fitting classifier...\n"
     ]
    },
    {
     "name": "stderr",
     "output_type": "stream",
     "text": [
      "Transforming Images: 100%|██████████| 20/20 [00:01<00:00, 15.54it/s]\n"
     ]
    }
   ],
   "source": [
    "train_dataloader = DataLoader(data_folder, 'train', \n",
    "                        shuffle=True, \n",
    "                        ignore_folders=['black_background', '.DS_Store'], \n",
    "                        max_samples=20, \n",
    "                        balance=False,\n",
    "                        transforms=None,\n",
    "                        classes=CLASSES,\n",
    "                        mask=False)\n",
    "\n",
    "# Build the codebook using the training data\n",
    "multifeature_bow.build_codebook(train_dataloader)\n",
    "\n",
    "\n",
    "# Train the classifier using BoW histograms\n",
    "multifeature_bow.fit_classifier(train_dataloader)"
   ]
  },
  {
   "cell_type": "code",
   "execution_count": 22,
   "metadata": {},
   "outputs": [
    {
     "name": "stdout",
     "output_type": "stream",
     "text": [
      "Evaluating...\n",
      "Predicting...\n"
     ]
    },
    {
     "name": "stderr",
     "output_type": "stream",
     "text": [
      "Transforming Images: 100%|██████████| 100/100 [00:08<00:00, 11.63it/s]\n"
     ]
    },
    {
     "name": "stdout",
     "output_type": "stream",
     "text": [
      "              precision    recall  f1-score   support\n",
      "\n",
      "       nevus       0.77      0.66      0.71        56\n",
      "      others       0.63      0.75      0.69        44\n",
      "\n",
      "    accuracy                           0.70       100\n",
      "   macro avg       0.70      0.71      0.70       100\n",
      "weighted avg       0.71      0.70      0.70       100\n",
      "\n",
      "[[37 19]\n",
      " [11 33]]\n"
     ]
    }
   ],
   "source": [
    "test_dataloader = DataLoader(data_folder, 'val', \n",
    "                        shuffle=True, \n",
    "                        ignore_folders=['black_background', '.DS_Store'], \n",
    "                        max_samples=100, \n",
    "                        balance=False,\n",
    "                        transforms=None,\n",
    "                        classes=CLASSES, \n",
    "                        mask=False)\n",
    "\n",
    "report, confusion_m = multifeature_bow.evaluate(test_dataloader, class_names=CLASSES)\n",
    "print(report)\n",
    "print(confusion_m)"
   ]
  },
  {
   "cell_type": "code",
   "execution_count": null,
   "metadata": {},
   "outputs": [],
   "source": []
  }
 ],
 "metadata": {
  "kernelspec": {
   "display_name": "py11",
   "language": "python",
   "name": "python3"
  },
  "language_info": {
   "codemirror_mode": {
    "name": "ipython",
    "version": 3
   },
   "file_extension": ".py",
   "mimetype": "text/x-python",
   "name": "python",
   "nbconvert_exporter": "python",
   "pygments_lexer": "ipython3",
   "version": "3.11.8"
  }
 },
 "nbformat": 4,
 "nbformat_minor": 2
}
