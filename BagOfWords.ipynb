{
 "cells": [
  {
   "cell_type": "code",
   "execution_count": 1,
   "metadata": {},
   "outputs": [],
   "source": [
    "import os\n",
    "from tqdm import tqdm\n",
    "\n",
    "import cv2\n",
    "import numpy as np\n",
    "import matplotlib.pyplot as plt\n",
    "import xgboost as xgb\n",
    "from sklearn.cluster import KMeans\n",
    "from sklearn.svm import SVC\n",
    "from sklearn.preprocessing import StandardScaler\n",
    "from sklearn.metrics import accuracy_score, confusion_matrix, classification_report\n",
    "\n",
    "from utils.dataloader import DataLoader\n",
    "from utils.vis import MatplotlibVisualizer\n",
    "from utils.transforms import HairRemoval, Composer\n",
    "from descriptors.texture import LBPDescriptor, GLCMDescriptor\n",
    "from utils.segmentation import ThresholdingSegmentation\n",
    "from descriptors.bow import MultifeatureBoW\n",
    "from descriptors.color import ColorDescriptor, ColorLayoutDescriptor, ColorCooccurrenceMatrixDescriptor"
   ]
  },
  {
   "cell_type": "code",
   "execution_count": 2,
   "metadata": {},
   "outputs": [],
   "source": [
    "## Classes\n",
    "CLASSES = ['nevus', 'others']\n",
    "\n",
    "## Work folfer\n",
    "work_folder = os.getcwd()\n",
    "data_folder = os.path.join(work_folder, '..', 'Data/Challenge1')\n",
    "\n",
    "## Visualizer\n",
    "matplotlib_visualizer = MatplotlibVisualizer()"
   ]
  },
  {
   "cell_type": "code",
   "execution_count": 3,
   "metadata": {},
   "outputs": [],
   "source": [
    "color_descriptor = ColorDescriptor(bins=(8, 12, 3))\n",
    "color_cooccurrence_matrix_descriptor = ColorCooccurrenceMatrixDescriptor(distances=[1], angles=[0, np.pi/4, np.pi/2, 3*np.pi/4], levels=8)\n",
    "# glcm_descriptor = GLCMDescriptor(distances=[1], angles=[0, np.pi/4, np.pi/2, 3*np.pi/4], levels=8, visualize=False, grid_x=4, grid_y=4)\n",
    "# lbp_descriptor = LBPDescriptor(radius=3, n_points=16, grid_x=3, grid_y=3, visualize=False)\n",
    "\n",
    "descriptors = [color_descriptor, color_cooccurrence_matrix_descriptor]\n",
    "classifier = xgb.XGBClassifier(objective='binary:logistic', n_estimators=50, learning_rate=0.1, n_jobs=-1)\n",
    "\n",
    "# Initialize the MultifeatureBoW model\n",
    "multifeature_bow = MultifeatureBoW(vocab_size=100, descriptors=descriptors)"
   ]
  },
  {
   "cell_type": "code",
   "execution_count": null,
   "metadata": {},
   "outputs": [],
   "source": [
    "train_dataloader = DataLoader(data_folder, 'train', \n",
    "                        shuffle=True, \n",
    "                        ignore_folders=['black_background', '.DS_Store'], \n",
    "                        max_samples=None, \n",
    "                        balance=False,\n",
    "                        transforms=None)\n",
    "\n",
    "# Build the codebook using the training data\n",
    "multifeature_bow.build_codebook(train_dataloader)\n",
    "\n",
    "\n",
    "# Train the classifier using BoW histograms\n",
    "multifeature_bow.fit_classifier(train_dataloader)"
   ]
  },
  {
   "cell_type": "code",
   "execution_count": 24,
   "metadata": {},
   "outputs": [
    {
     "name": "stdout",
     "output_type": "stream",
     "text": [
      "Evaluating...\n",
      "Predicting...\n"
     ]
    },
    {
     "name": "stderr",
     "output_type": "stream",
     "text": [
      "Transforming Images: 100%|██████████| 2635/2635 [01:24<00:00, 31.12it/s]\n"
     ]
    },
    {
     "name": "stdout",
     "output_type": "stream",
     "text": [
      "              precision    recall  f1-score   support\n",
      "\n",
      "       nevus       0.63      0.56      0.59      1052\n",
      "      others       0.73      0.78      0.75      1583\n",
      "\n",
      "    accuracy                           0.69      2635\n",
      "   macro avg       0.68      0.67      0.67      2635\n",
      "weighted avg       0.69      0.69      0.69      2635\n",
      "\n",
      "[[ 584  468]\n",
      " [ 347 1236]]\n"
     ]
    }
   ],
   "source": [
    "test_dataloader = DataLoader(data_folder, 'val', \n",
    "                        shuffle=True, \n",
    "                        ignore_folders=['black_background', '.DS_Store'], \n",
    "                        max_samples=None, \n",
    "                        balance=False,\n",
    "                        transforms=None)\n",
    "\n",
    "report, confusion_m = multifeature_bow.evaluate(test_dataloader, class_names=CLASSES)\n",
    "print(report)\n",
    "print(confusion_m)"
   ]
  },
  {
   "cell_type": "code",
   "execution_count": null,
   "metadata": {},
   "outputs": [],
   "source": []
  }
 ],
 "metadata": {
  "kernelspec": {
   "display_name": "py11",
   "language": "python",
   "name": "python3"
  },
  "language_info": {
   "codemirror_mode": {
    "name": "ipython",
    "version": 3
   },
   "file_extension": ".py",
   "mimetype": "text/x-python",
   "name": "python",
   "nbconvert_exporter": "python",
   "pygments_lexer": "ipython3",
   "version": "3.11.8"
  }
 },
 "nbformat": 4,
 "nbformat_minor": 2
}
